{
 "cells": [
  {
   "cell_type": "code",
   "execution_count": null,
   "id": "8e2a1baa",
   "metadata": {},
   "outputs": [],
   "source": [
    "import pandas as pd\n",
    "df=pd.read_csv(\"WA_Fn-UseC_-HR-Employee-Attrition.csv\")\n",
    "df.head()"
   ]
  },
  {
   "cell_type": "code",
   "execution_count": null,
   "id": "71b0175d",
   "metadata": {},
   "outputs": [],
   "source": [
    "df.shape"
   ]
  },
  {
   "cell_type": "code",
   "execution_count": null,
   "id": "53813718",
   "metadata": {},
   "outputs": [],
   "source": [
    "df.columns"
   ]
  },
  {
   "cell_type": "code",
   "execution_count": null,
   "id": "21d5d706",
   "metadata": {},
   "outputs": [],
   "source": [
    "df.isnull().sum()"
   ]
  },
  {
   "cell_type": "code",
   "execution_count": null,
   "id": "d4cd6210",
   "metadata": {},
   "outputs": [],
   "source": [
    "df.duplicated().sum()"
   ]
  },
  {
   "cell_type": "code",
   "execution_count": null,
   "id": "f28cb14c",
   "metadata": {},
   "outputs": [],
   "source": [
    "\n",
    "column = ['EmployeeCount', 'StandardHours', 'Over18', 'EmployeeNumber']\n",
    "for col in column:\n",
    "    df.drop(columns=column, inplace=True)\n",
    "\n"
   ]
  },
  {
   "cell_type": "code",
   "execution_count": null,
   "id": "856e069d",
   "metadata": {},
   "outputs": [],
   "source": [
    "df.drop(columns='YearsWithCurrManager',inplace=True)"
   ]
  },
  {
   "cell_type": "code",
   "execution_count": null,
   "id": "32fae650",
   "metadata": {},
   "outputs": [],
   "source": [
    "df.shape"
   ]
  },
  {
   "cell_type": "code",
   "execution_count": null,
   "id": "a5ab445d",
   "metadata": {},
   "outputs": [],
   "source": [
    "df.info"
   ]
  },
  {
   "cell_type": "code",
   "execution_count": null,
   "id": "d5fcf17e",
   "metadata": {},
   "outputs": [],
   "source": [
    "df.describe()"
   ]
  },
  {
   "cell_type": "code",
   "execution_count": null,
   "id": "e9f033bb",
   "metadata": {},
   "outputs": [],
   "source": [
    "import matplotlib.pyplot as plt\n",
    "import seaborn as sns\n",
    "\n",
    "\n",
    "\n",
    "num_cols = df.select_dtypes(include='number').columns\n",
    "\n",
    "for col in num_cols:\n",
    "    plt.figure(figsize=(6,4))\n",
    "    sns.histplot(df[col], kde=True, bins=30, color=\"skyblue\")\n",
    "    plt.title(f\"Distribution of {col}\")\n",
    "    plt.xlabel(col)\n",
    "    plt.ylabel(\"Count\")\n",
    "    plt.show()\n"
   ]
  },
  {
   "cell_type": "code",
   "execution_count": null,
   "id": "8318c0a7",
   "metadata": {},
   "outputs": [],
   "source": [
    "num_cols =df.select_dtypes(include='number').columns\n",
    "for col in num_cols:\n",
    "    plt.figure(figsize=(6,4))\n",
    "    sns.boxplot(x=df[col], palette=\"Set3\")\n",
    "    plt.title(f\"Boxplot of {col}\")\n",
    "    plt.show()\n"
   ]
  },
  {
   "cell_type": "code",
   "execution_count": null,
   "id": "88861aed",
   "metadata": {},
   "outputs": [],
   "source": [
    "\n",
    "cat_cols = df.select_dtypes(include=['object','category']).columns\n",
    "\n",
    "for col in cat_cols:\n",
    "    plt.figure(figsize=(6,4))\n",
    "    sns.countplot(x=col, data=df, palette=\"pastel\")\n",
    "    plt.title(f\"Countplot of {col}\")\n",
    "    plt.xticks(rotation=55)\n",
    "    plt.show()\n"
   ]
  },
  {
   "cell_type": "code",
   "execution_count": null,
   "id": "a1dada1c",
   "metadata": {},
   "outputs": [],
   "source": [
    "plt.figure(figsize=(10,6))\n",
    "corr=df[num_cols].corr()\n",
    "sns.heatmap(corr, annot=True, cmap=\"coolwarm\", fmt=\".2f\")\n",
    "plt.title(\"Correlation Heatmap\")\n",
    "plt.show()"
   ]
  },
  {
   "cell_type": "code",
   "execution_count": null,
   "id": "666d85be",
   "metadata": {},
   "outputs": [],
   "source": [
    "drop_cols=['JobLevel', 'YearsInCurrentRole']\n",
    "for i in drop_cols:\n",
    "    df.drop(columns=i)"
   ]
  },
  {
   "cell_type": "code",
   "execution_count": null,
   "id": "c28792ea",
   "metadata": {},
   "outputs": [],
   "source": [
    "\n",
    "categorical_cols=df.select_dtypes(include=['object']).columns\n",
    "\n",
    "df_encoded=pd.get_dummies(df, columns=categorical_cols, drop_first=True)\n"
   ]
  },
  {
   "cell_type": "code",
   "execution_count": null,
   "id": "f493e22d",
   "metadata": {},
   "outputs": [],
   "source": [
    "df.head()"
   ]
  },
  {
   "cell_type": "code",
   "execution_count": null,
   "id": "2490b50b",
   "metadata": {},
   "outputs": [],
   "source": [
    "df.columns"
   ]
  },
  {
   "cell_type": "code",
   "execution_count": null,
   "id": "b3662a7e",
   "metadata": {},
   "outputs": [],
   "source": [
    "from sklearn.preprocessing import StandardScaler\n",
    "numeric_features = df.select_dtypes(include=['int','float']).columns\n",
    "\n",
    "scaler = StandardScaler()\n",
    "df[numeric_features] = scaler.fit_transform(df[numeric_features])\n"
   ]
  },
  {
   "cell_type": "code",
   "execution_count": null,
   "id": "fd3bec62",
   "metadata": {},
   "outputs": [],
   "source": [
    "from sklearn.model_selection import train_test_split,RandomizedSearchCV\n",
    "\n",
    "X=df.drop('Attrition', axis=1)\n",
    "y=df['Attrition']  \n",
    "\n",
    "X_train, X_test, y_train, y_test=train_test_split(X, y, test_size=0.25, random_state=42)\n"
   ]
  },
  {
   "cell_type": "code",
   "execution_count": null,
   "id": "2e338f23",
   "metadata": {},
   "outputs": [],
   "source": [
    "from imblearn.over_sampling import SMOTE\n",
    "sm = SMOTE(random_state=42)\n",
    "X_train_res, y_train_res = sm.fit_resample(X_train, y_train)\n"
   ]
  },
  {
   "cell_type": "code",
   "execution_count": 14,
   "id": "add89e0b",
   "metadata": {},
   "outputs": [
    {
     "name": "stdout",
     "output_type": "stream",
     "text": [
      "Best params for RandomForest: {'max_depth': 4, 'max_features': 'log2', 'min_samples_split': 5, 'n_estimators': 113}\n",
      "Best params for GradientBoosting: {'learning_rate': np.float64(0.19299193510875617), 'max_depth': 3, 'max_features': 'log2', 'n_estimators': 132}\n"
     ]
    },
    {
     "name": "stderr",
     "output_type": "stream",
     "text": [
      "d:\\python test\\aug31\\myenv\\Lib\\site-packages\\xgboost\\training.py:183: UserWarning: [17:42:44] WARNING: C:\\actions-runner\\_work\\xgboost\\xgboost\\src\\learner.cc:738: \n",
      "Parameters: { \"use_label_encoder\" } are not used.\n",
      "\n",
      "  bst.update(dtrain, iteration=i, fobj=obj)\n"
     ]
    },
    {
     "name": "stdout",
     "output_type": "stream",
     "text": [
      "Best params for XGBoost: {'learning_rate': np.float64(0.18000771555795989), 'max_depth': 4, 'n_estimators': 132, 'subsample': np.float64(0.7190675050858071)}\n",
      "\n",
      "RandomForest Metrics:\n",
      "Accuracy: 0.81, Precision: 0.43, Recall: 0.55, F1: 0.49\n",
      "Confusion Matrix:\n",
      " [[213  34]\n",
      " [ 21  26]]\n",
      "\n",
      "GradientBoosting Metrics:\n",
      "Accuracy: 0.87, Precision: 0.71, Recall: 0.32, F1: 0.44\n",
      "Confusion Matrix:\n",
      " [[241   6]\n",
      " [ 32  15]]\n",
      "\n",
      "XGBoost Metrics:\n",
      "Accuracy: 0.87, Precision: 0.75, Recall: 0.26, F1: 0.38\n",
      "Confusion Matrix:\n",
      " [[243   4]\n",
      " [ 35  12]]\n",
      "\n",
      "LogisticRegression Metrics:\n",
      "Accuracy: 0.76, Precision: 0.36, Recall: 0.66, F1: 0.46\n",
      "Confusion Matrix:\n",
      " [[191  56]\n",
      " [ 16  31]]\n"
     ]
    },
    {
     "data": {
      "image/png": "[encoded data removed]",
      "text/plain": [
       "<Figure size 800x600 with 1 Axes>"
      ]
     },
     "metadata": {},
     "output_type": "display_data"
    }
   ],
   "source": [
    "# ------------------- Libraries -------------------\n",
    "import pandas as pd\n",
    "import matplotlib.pyplot as plt\n",
    "from sklearn.model_selection import train_test_split, RandomizedSearchCV\n",
    "from sklearn.preprocessing import StandardScaler\n",
    "from sklearn.linear_model import LogisticRegression\n",
    "from sklearn.ensemble import RandomForestClassifier, GradientBoostingClassifier\n",
    "from xgboost import XGBClassifier\n",
    "from sklearn.metrics import accuracy_score, precision_score, recall_score, f1_score, confusion_matrix, roc_curve, auc\n",
    "from scipy.stats import randint, uniform\n",
    "import pickle as pkl\n",
    "\n",
    "#\n",
    "X = df.drop(['Attrition'], axis=1)  # Drop target\n",
    "y = df['Attrition'].map({'Yes': 1, 'No': 0})  # Encode target\n",
    "\n",
    "# ------------------- One-hot encoding -------------------\n",
    "cat_cols = [col for col in X.columns if X[col].dtype=='object']\n",
    "X = pd.get_dummies(X, columns=cat_cols, drop_first=True)\n",
    "\n",
    "# ------------------- Train/Test Split -------------------\n",
    "X_train, X_test, y_train, y_test = train_test_split(\n",
    "    X, y, test_size=0.2, random_state=42, stratify=y\n",
    ")\n",
    "\n",
    "# ------------------- Scaling numeric features -------------------\n",
    "numeric_features = X_train.select_dtypes(include=['int64', 'float64']).columns.tolist()\n",
    "scaler = StandardScaler()\n",
    "X_train[numeric_features] = scaler.fit_transform(X_train[numeric_features])\n",
    "X_test[numeric_features] = scaler.transform(X_test[numeric_features])\n",
    "\n",
    "# ------------------- Hyperparameter distributions -------------------\n",
    "param_dists = {\n",
    "    \"RandomForest\": {\n",
    "        'n_estimators': randint(100, 300),\n",
    "        'max_depth': randint(3, 10),\n",
    "        'min_samples_split': randint(2, 10),\n",
    "        'max_features': ['sqrt', 'log2', None]\n",
    "    },\n",
    "    \"GradientBoosting\": {\n",
    "        'n_estimators': randint(100, 300),\n",
    "        'learning_rate': uniform(0.01, 0.2),\n",
    "        'max_depth': randint(3, 6),\n",
    "        'max_features': ['sqrt', 'log2', None]\n",
    "    },\n",
    "    \"XGBoost\": {\n",
    "        'n_estimators': randint(100, 300),\n",
    "        'learning_rate': uniform(0.01, 0.2),\n",
    "        'max_depth': randint(3, 6),\n",
    "        'subsample': uniform(0.7, 0.3)\n",
    "    }\n",
    "}\n",
    "\n",
    "# ------------------- Models -------------------\n",
    "models = {\n",
    "    \"LogisticRegression\": LogisticRegression(max_iter=1000, class_weight='balanced', random_state=42),\n",
    "    \"RandomForest\": RandomForestClassifier(random_state=42, class_weight='balanced'),\n",
    "    \"GradientBoosting\": GradientBoostingClassifier(random_state=42),\n",
    "    \"XGBoost\": XGBClassifier(use_label_encoder=False, eval_metric='logloss', random_state=42)\n",
    "}\n",
    "\n",
    "# ------------------- RandomizedSearchCV for ensemble models -------------------\n",
    "best_models = {}\n",
    "for name in [\"RandomForest\", \"GradientBoosting\", \"XGBoost\"]:\n",
    "    rand_search = RandomizedSearchCV(\n",
    "        models[name],\n",
    "        param_distributions=param_dists[name],\n",
    "        n_iter=30,  \n",
    "        cv=5,\n",
    "        scoring='f1',\n",
    "        n_jobs=-1,\n",
    "        random_state=42\n",
    "    )\n",
    "    rand_search.fit(X_train, y_train)\n",
    "    best_models[name] = rand_search.best_estimator_\n",
    "    print(f\"Best params for {name}: {rand_search.best_params_}\")\n",
    "\n",
    "# Fit Logistic Regression separately\n",
    "best_models[\"LogisticRegression\"] = models[\"LogisticRegression\"]\n",
    "best_models[\"LogisticRegression\"].fit(X_train, y_train)\n",
    "\n",
    "# ------------------- Evaluation & ROC Curve -------------------\n",
    "plt.figure(figsize=(8,6))\n",
    "for name, model in best_models.items():\n",
    "    y_pred = model.predict(X_test)\n",
    "    acc = accuracy_score(y_test, y_pred)\n",
    "    prec = precision_score(y_test, y_pred, zero_division=0)\n",
    "    rec = recall_score(y_test, y_pred, zero_division=0)\n",
    "    f1 = f1_score(y_test, y_pred, zero_division=0)\n",
    "    cm = confusion_matrix(y_test, y_pred)\n",
    "\n",
    "    print(f\"\\n{name} Metrics:\")\n",
    "    print(f\"Accuracy: {acc:.2f}, Precision: {prec:.2f}, Recall: {rec:.2f}, F1: {f1:.2f}\")\n",
    "    print(\"Confusion Matrix:\\n\", cm)\n",
    "\n",
    "    # ROC-AUC\n",
    "    if hasattr(model, \"predict_proba\"):\n",
    "        y_proba = model.predict_proba(X_test)[:,1]\n",
    "    elif hasattr(model, \"decision_function\"):\n",
    "        y_proba = model.decision_function(X_test)\n",
    "    else:\n",
    "        y_proba = None\n",
    "\n",
    "    if y_proba is not None:\n",
    "        fpr, tpr, thresholds = roc_curve(y_test, y_proba)\n",
    "        roc_auc = auc(fpr, tpr)\n",
    "        plt.plot(fpr, tpr, label=f\"{name} (AUC={roc_auc:.2f})\")\n",
    "\n",
    "plt.plot([0,1], [0,1], 'k--')\n",
    "plt.xlabel(\"False Positive Rate\")\n",
    "plt.ylabel(\"True Positive Rate\")\n",
    "plt.title(\"ROC Curves for Classification Models\")\n",
    "plt.legend()\n",
    "plt.grid(True)\n",
    "plt.show()\n",
    "\n",
    "# ------------------- Save models & feature columns -------------------\n",
    "with open(\"models.pkl\", \"wb\") as f:\n",
    "    pkl.dump(best_models, f)\n",
    "\n",
    "pd.DataFrame(X_train.columns, columns=['feature']).to_csv(\"feature_cols.csv\", index=False)\n"
   ]
  },
  {
   "cell_type": "markdown",
   "id": "447e819c",
   "metadata": {},
   "source": []
  }
 ],
 "metadata": {
  "kernelspec": {
   "display_name": "myenv",
   "language": "python",
   "name": "python3"
  },
  "language_info": {
   "codemirror_mode": {
    "name": "ipython",
    "version": 3
   },
   "file_extension": ".py",
   "mimetype": "text/x-python",
   "name": "python",
   "nbconvert_exporter": "python",
   "pygments_lexer": "ipython3",
   "version": "3.13.5"
  }
 },
 "nbformat": 4,
 "nbformat_minor": 5
}
